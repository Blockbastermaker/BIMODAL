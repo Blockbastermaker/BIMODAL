{
 "cells": [
  {
   "cell_type": "markdown",
   "metadata": {},
   "source": [
    "# Example on how to use the code for fine-tuning your model\n"
   ]
  },
  {
   "cell_type": "markdown",
   "metadata": {},
   "source": [
    "## Preliminary steps"
   ]
  },
  {
   "cell_type": "markdown",
   "metadata": {},
   "source": [
    "### Paths and imports"
   ]
  },
  {
   "cell_type": "markdown",
   "metadata": {},
   "source": [
    "Adds necessary repo folders to the path"
   ]
  },
  {
   "cell_type": "code",
   "execution_count": 163,
   "metadata": {},
   "outputs": [],
   "source": [
    "import sys\n",
    "sys.path.insert(1, '../preprocessing/') # preprocessing code\n",
    "sys.path.insert(1, '../experiments/') # folder with configuration files\n",
    "sys.path.insert(1, '../data/') # data code\n",
    "sys.path.insert(1, '../model/') # model code"
   ]
  },
  {
   "cell_type": "markdown",
   "metadata": {},
   "source": [
    "Imports"
   ]
  },
  {
   "cell_type": "code",
   "execution_count": 164,
   "metadata": {},
   "outputs": [],
   "source": [
    "from main_preprocessor import preprocess_data #for data preprocessing\n",
    "import configparser # to automatically change the .ini file\n",
    "from sample import Sampler"
   ]
  },
  {
   "cell_type": "markdown",
   "metadata": {},
   "source": [
    "## Model and data"
   ]
  },
  {
   "cell_type": "markdown",
   "metadata": {},
   "source": [
    "Model settings (user-defined)"
   ]
  },
  {
   "cell_type": "code",
   "execution_count": 165,
   "metadata": {},
   "outputs": [],
   "source": [
    "model = 'BIMODAL' # type of method to use\n",
    "start = 'random' # position of the starting token ('fixed' or 'random')\n",
    "aug_level = 1 # augmentation level (1 = no augmentation)\n",
    "net_size = 512 # total number of hidden units"
   ]
  },
  {
   "cell_type": "markdown",
   "metadata": {},
   "source": [
    "Fine tuning and sampling settings"
   ]
  },
  {
   "cell_type": "code",
   "execution_count": 180,
   "metadata": {},
   "outputs": [],
   "source": [
    "# training process\n",
    "fine_tuning = 'fine_tuning' #name and/or path to dataset for fine-tuning (csv or tar.xz)\n",
    "epochs = 5 # fine tuning epochs (the higher the number, the closer you get to the fine-tuning compounds)\n",
    "\n",
    "# sampling process\n",
    "T_sampling = 0.7 # temperature for sampling\n",
    "n_sampling = 150 # smiles to sample\n",
    "n_folds = 1 # number of CV folds to use for fine-tuning\n",
    "sample_valid=True\n",
    "sample_novel=True\n",
    "sample_unique=True\n",
    "number_molecules_for_epoch = 150"
   ]
  },
  {
   "cell_type": "markdown",
   "metadata": {},
   "source": [
    "## Preprocessing the fine tuning library"
   ]
  },
  {
   "cell_type": "code",
   "execution_count": 181,
   "metadata": {},
   "outputs": [
    {
     "name": "stdout",
     "output_type": "stream",
     "text": [
      "Pre-processing of \"fine_tuning\" started.\n",
      " invalid SMILES - removed.\n",
      " duplicate SMILES - removed.\n",
      " salts - removed.\n",
      " stereochemistry - removed.\n",
      " canonicalized SMILES.\n",
      "(21,)\n",
      "Data processed saved\n",
      "The new file can be found in ../data with the following name: \"fine_tuning_BIMODAL_random.csv\".\n"
     ]
    }
   ],
   "source": [
    "#preprocess\n",
    "preprocess_data(filename_in='fine_tuning', model_type=model, starting_point=start, augmentation=1, max_len=74, min_len=34)\n",
    "#info on the filename\n",
    "fine_tuning_preprocessed = fine_tuning + '_' + model + '_' + start\n",
    "print ('The new file can be found in ../data with the following name: \"' + fine_tuning_preprocessed + '.csv\".')"
   ]
  },
  {
   "cell_type": "markdown",
   "metadata": {},
   "source": [
    "## Fine tuning the model"
   ]
  },
  {
   "cell_type": "markdown",
   "metadata": {},
   "source": [
    "Create a the configuration file and saves it as ([\"Example_FineTuning.ini\"](../experiments/)) based on the user-defined settings (this is done automatically according to all the settings chosen already)"
   ]
  },
  {
   "cell_type": "code",
   "execution_count": 182,
   "metadata": {},
   "outputs": [],
   "source": [
    "reference_name = model + '_' + start + '_' + str(net_size)\n",
    "\n",
    "# name of the configuration file to use\n",
    "exp_name = reference_name + '_FineTuning'\n",
    "template_name = 'BIMODAL_random_512_FineTuning_template.ini' # file to use as template\n",
    "\n",
    "# reads the config file from the template\n",
    "config = configparser.ConfigParser()\n",
    "config.sections()\n",
    "config.read('../experiments/' + template_name) # starts from one of the templates\n",
    "\n",
    "# changes the fields based on the specified options\n",
    "config['MODEL']['model'] = model\n",
    "if model is 'BIMODAL':\n",
    "    config['MODEL']['hidden_units'] = str(net_size//4)\n",
    "else:\n",
    "    config['MODEL']['hidden_units'] = str(net_size//2)\n",
    "        \n",
    "config['DATA']['data'] = fine_tuning_preprocessed\n",
    "config['TRAINING']['epochs'] = str(epochs) \n",
    "\n",
    "config['EVALUATION']['samples'] = str(n_sampling)\n",
    "config['EVALUATION']['temp'] = str(T_sampling)\n",
    "\n",
    "# picks one of our pre-trained models that are provided in the repo. \n",
    "# If the SMILES preprocessing changes, the pre-training has to be performed again\n",
    "config['FINETUNING']['start_model'] = '../evaluation/' + reference_name + '/models/model_fold_1_epochs_9' \n",
    "\n",
    "# writes back the new options\n",
    "with open('../experiments/' + exp_name +'.ini', 'w') as configfile:\n",
    "    config.write(configfile)\n"
   ]
  },
  {
   "cell_type": "markdown",
   "metadata": {},
   "source": [
    "Fine tune the model"
   ]
  },
  {
   "cell_type": "code",
   "execution_count": 183,
   "metadata": {},
   "outputs": [],
   "source": [
    "import fine_tuner\n",
    "import bimodal"
   ]
  },
  {
   "cell_type": "code",
   "execution_count": 184,
   "metadata": {},
   "outputs": [
    {
     "data": {
      "text/plain": [
       "<module 'bimodal' from '../model\\\\bimodal.py'>"
      ]
     },
     "execution_count": 184,
     "metadata": {},
     "output_type": "execute_result"
    }
   ],
   "source": [
    "from importlib import reload\n",
    "reload(fine_tuner)\n",
    "reload(bimodal)"
   ]
  },
  {
   "cell_type": "code",
   "execution_count": 185,
   "metadata": {},
   "outputs": [
    {
     "name": "stdout",
     "output_type": "stream",
     "text": [
      "GPU available\n",
      "(21, 1)\n"
     ]
    }
   ],
   "source": [
    "t = fine_tuner.FineTuner(experiment_name = exp_name)"
   ]
  },
  {
   "cell_type": "code",
   "execution_count": 186,
   "metadata": {},
   "outputs": [
    {
     "name": "stderr",
     "output_type": "stream",
     "text": [
      "C:\\Users\\Francesca\\anaconda3\\envs\\brnn\\lib\\site-packages\\torch\\serialization.py:434: SourceChangeWarning: source code of class 'bidir_lstm.BiDirLSTM' has changed. you can retrieve the original source code by accessing the object's source attribute or set `torch.nn.Module.dump_patches = True` and use the patch tool to revert the changes.\n",
      "  warnings.warn(msg, SourceChangeWarning)\n"
     ]
    },
    {
     "name": "stdout",
     "output_type": "stream",
     "text": [
      "Fold: 1\n",
      "Epoch: 0\n",
      "Fold: 1\n",
      "Epoch: 1\n",
      "Fold: 1\n",
      "Epoch: 2\n",
      "Fold: 1\n",
      "Epoch: 3\n",
      "Fold: 1\n",
      "Epoch: 4\n"
     ]
    }
   ],
   "source": [
    "t.fine_tuning(stor_dir='../evaluation/', restart=False)"
   ]
  },
  {
   "cell_type": "code",
   "execution_count": null,
   "metadata": {},
   "outputs": [],
   "source": []
  }
 ],
 "metadata": {
  "kernelspec": {
   "display_name": "Python 3",
   "language": "python",
   "name": "python3"
  },
  "language_info": {
   "codemirror_mode": {
    "name": "ipython",
    "version": 3
   },
   "file_extension": ".py",
   "mimetype": "text/x-python",
   "name": "python",
   "nbconvert_exporter": "python",
   "pygments_lexer": "ipython3",
   "version": "3.7.4"
  }
 },
 "nbformat": 4,
 "nbformat_minor": 2
}
