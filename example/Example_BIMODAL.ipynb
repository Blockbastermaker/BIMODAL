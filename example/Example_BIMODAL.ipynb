{
 "cells": [
  {
   "cell_type": "markdown",
   "metadata": {},
   "source": [
    "\n",
    "# Example on how to use the code for fine-tuning your model"
   ]
  },
  {
   "cell_type": "markdown",
   "metadata": {},
   "source": [
    "## Preliminary steps"
   ]
  },
  {
   "cell_type": "markdown",
   "metadata": {},
   "source": [
    "### Paths and imports"
   ]
  },
  {
   "cell_type": "markdown",
   "metadata": {},
   "source": [
    "Adds necessary repo folders to the path"
   ]
  },
  {
   "cell_type": "code",
   "execution_count": 1,
   "metadata": {},
   "outputs": [],
   "source": [
    "import sys\n",
    "sys.path.insert(1, '../preprocessing/') # preprocessing code\n",
    "sys.path.insert(1, '../experiments/') # folder with configuration files\n",
    "sys.path.insert(1, '../data/') # data code\n",
    "sys.path.insert(1, '../model/') # model code"
   ]
  },
  {
   "cell_type": "markdown",
   "metadata": {},
   "source": [
    "Imports"
   ]
  },
  {
   "cell_type": "code",
   "execution_count": 2,
   "metadata": {},
   "outputs": [],
   "source": [
    "from main_preprocessor import preprocess_data #for data preprocessing\n",
    "import configparser # to automatically change the .ini file\n",
    "from sample import Sampler"
   ]
  },
  {
   "cell_type": "markdown",
   "metadata": {},
   "source": [
    "## Model and data"
   ]
  },
  {
   "cell_type": "markdown",
   "metadata": {},
   "source": [
    "Model settings"
   ]
  },
  {
   "cell_type": "code",
   "execution_count": 3,
   "metadata": {},
   "outputs": [],
   "source": [
    "model = 'BIMODAL' # type of method to use\n",
    "start = 'fixed' # position of the starting token ('fixed' or 'random')\n",
    "aug_level = 1 # augmentation level (1 = no augmentation)\n",
    "net_size = 512 # total number of hidden units"
   ]
  },
  {
   "cell_type": "markdown",
   "metadata": {},
   "source": [
    "Fine tuning settings"
   ]
  },
  {
   "cell_type": "code",
   "execution_count": 4,
   "metadata": {},
   "outputs": [],
   "source": [
    "fine_tuning = 'fine_tuning' #name and/or path to dataset for fine-tuning (csv or tar.xz)\n",
    "epochs = 1 # fine tuning epochs"
   ]
  },
  {
   "cell_type": "markdown",
   "metadata": {},
   "source": [
    "Sampling settings"
   ]
  },
  {
   "cell_type": "code",
   "execution_count": 5,
   "metadata": {},
   "outputs": [],
   "source": [
    "T_sampling = 0.7 # temperature for sampling\n",
    "n_sampling = 10 # smiles to sample\n",
    "n_folds = 1 # number of CV folds to use for fine-tuning\n",
    "sample_valid=True\n",
    "sample_novel=True\n",
    "sample_unique=True"
   ]
  },
  {
   "cell_type": "markdown",
   "metadata": {},
   "source": [
    "## Preprocessing the fine tuning library"
   ]
  },
  {
   "cell_type": "code",
   "execution_count": 6,
   "metadata": {},
   "outputs": [
    {
     "name": "stdout",
     "output_type": "stream",
     "text": [
      "Pre-processing of \"fine_tuning\" started.\n",
      " invalid SMILES - removed.\n",
      " duplicate SMILES - removed.\n",
      " salts - removed.\n",
      " stereochemistry - removed.\n",
      " canonicalized SMILES.\n",
      "Data processed saved\n"
     ]
    }
   ],
   "source": [
    "preprocess_data(filename_in='fine_tuning', model_type='BIMODAL', starting_point='fixed', augmentation=1)"
   ]
  },
  {
   "cell_type": "code",
   "execution_count": 7,
   "metadata": {},
   "outputs": [
    {
     "name": "stdout",
     "output_type": "stream",
     "text": [
      "The new file can be found in ../data with the following name: \"fine_tuning_BIMODAL_fixed.csv\".\n"
     ]
    }
   ],
   "source": [
    "fine_tuning_preprocessed = fine_tuning + '_' + model + '_' + start\n",
    "print ('The new file can be found in ../data with the following name: \"' + fine_tuning_preprocessed + '.csv\".')"
   ]
  },
  {
   "cell_type": "markdown",
   "metadata": {},
   "source": [
    "## Fine tuning the model"
   ]
  },
  {
   "cell_type": "markdown",
   "metadata": {},
   "source": [
    "Create a the configuration file and saves it as ([\"Example_FineTuning.ini\"](../experiments/)) based on the user-defined settings"
   ]
  },
  {
   "cell_type": "code",
   "execution_count": 8,
   "metadata": {},
   "outputs": [],
   "source": [
    "# name of the configuration file to use\n",
    "exp_name = 'Example_FineTuning'\n",
    "template_name = 'BIMODAL_random_512_FineTuning_template.ini' # file to use as template\n",
    "\n",
    "# reads the config file from the template\n",
    "config = configparser.ConfigParser()\n",
    "config.sections()\n",
    "config.read('../experiments/' + template_name) # starts from one of the templates\n",
    "\n",
    "# changes the fields based on the specified options\n",
    "config['MODEL']['model'] = model\n",
    "config['MODEL']['hidden_units'] = str(net_size//2)\n",
    "config['DATA']['data'] = fine_tuning_preprocessed\n",
    "config['TRAINING']['epochs'] = str(epochs) \n",
    "\n",
    "# writes back the new options\n",
    "with open('../experiments/' + exp_name +'.ini', 'w') as configfile:\n",
    "    config.write(configfile)"
   ]
  },
  {
   "cell_type": "markdown",
   "metadata": {},
   "source": [
    "Fine tune the model"
   ]
  },
  {
   "cell_type": "code",
   "execution_count": null,
   "metadata": {},
   "outputs": [
    {
     "name": "stdout",
     "output_type": "stream",
     "text": [
      "(271914, 1)\n"
     ]
    },
    {
     "name": "stderr",
     "output_type": "stream",
     "text": [
      "/home/fra/anaconda3/envs/brnn/lib/python3.7/site-packages/torch/serialization.py:434: SourceChangeWarning: source code of class 'bidir_lstm.BiDirLSTM' has changed. you can retrieve the original source code by accessing the object's source attribute or set `torch.nn.Module.dump_patches = True` and use the patch tool to revert the changes.\n",
      "  warnings.warn(msg, SourceChangeWarning)\n"
     ]
    },
    {
     "name": "stdout",
     "output_type": "stream",
     "text": [
      "Fold: 1\n",
      "Epoch: 0\n"
     ]
    }
   ],
   "source": [
    "from main_fine_tuner import FineTuner\n",
    "t = FineTuner(experiment_name = exp_name)\n",
    "t.fine_tuning(stor_dir='../evaluation/', restart=False)"
   ]
  },
  {
   "cell_type": "markdown",
   "metadata": {},
   "source": [
    "Sample from the fine-tuned model"
   ]
  },
  {
   "cell_type": "code",
   "execution_count": null,
   "metadata": {},
   "outputs": [],
   "source": [
    "s = Sampler(ex_name)\n",
    "s.sample(N=n_sampling, stor_dir='../evaluation', T=T_sampling, fold=n_folds, epoch=epochs, valid=sample_valid, novel=sample_novel, unique=sample_unique, write_csv=True)"
   ]
  },
  {
   "cell_type": "code",
   "execution_count": null,
   "metadata": {},
   "outputs": [],
   "source": []
  }
 ],
 "metadata": {
  "kernelspec": {
   "display_name": "Python 3",
   "language": "python",
   "name": "python3"
  },
  "language_info": {
   "codemirror_mode": {
    "name": "ipython",
    "version": 3
   },
   "file_extension": ".py",
   "mimetype": "text/x-python",
   "name": "python",
   "nbconvert_exporter": "python",
   "pygments_lexer": "ipython3",
   "version": "3.7.4"
  }
 },
 "nbformat": 4,
 "nbformat_minor": 2
}
